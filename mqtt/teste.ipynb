{
 "cells": [
  {
   "cell_type": "code",
   "execution_count": 3,
   "metadata": {},
   "outputs": [],
   "source": [
    "from Config import Config"
   ]
  },
  {
   "cell_type": "code",
   "execution_count": 4,
   "metadata": {},
   "outputs": [
    {
     "data": {
      "text/plain": [
       "[{'amount': 2,\n",
       "  'name': 'tipo1',\n",
       "  'memory': '1024m',\n",
       "  'vCPU_percent': 50,\n",
       "  'image': 'node:stable',\n",
       "  'volume': '/flw',\n",
       "  'script': '/client.py',\n",
       "  'conection': 1,\n",
       "  'loss': 0,\n",
       "  'bw': 10},\n",
       " {'amount': 2,\n",
       "  'name': 'tipo2',\n",
       "  'memory': '1024m',\n",
       "  'vCPU_percent': 50,\n",
       "  'image': 'node:stable',\n",
       "  'volume': '/flw',\n",
       "  'script': '/client.py',\n",
       "  'conection': 1,\n",
       "  'loss': 0,\n",
       "  'bw': 10}]"
      ]
     },
     "execution_count": 4,
     "metadata": {},
     "output_type": "execute_result"
    }
   ],
   "source": [
    "config = Config(\"config.yaml\")\n",
    "config.get(\"client_types\")"
   ]
  },
  {
   "cell_type": "code",
   "execution_count": 9,
   "metadata": {},
   "outputs": [
    {
     "name": "stdout",
     "output_type": "stream",
     "text": [
      "1600000 8000000\n"
     ]
    }
   ],
   "source": [
    "max_cota = 1000000\n",
    "n_clients_cpu = 8\n",
    "server = config.get(\"server\")\n",
    "med_quota =  max_cota*n_clients_cpu \n",
    "\n",
    "server_quota = (server[\"vCPU_percent\"]/100) * med_quota\n",
    "print(int(server_quota),med_quota)"
   ]
  }
 ],
 "metadata": {
  "kernelspec": {
   "display_name": "Python 3",
   "language": "python",
   "name": "python3"
  },
  "language_info": {
   "codemirror_mode": {
    "name": "ipython",
    "version": 3
   },
   "file_extension": ".py",
   "mimetype": "text/x-python",
   "name": "python",
   "nbconvert_exporter": "python",
   "pygments_lexer": "ipython3",
   "version": "3.10.12"
  },
  "orig_nbformat": 4
 },
 "nbformat": 4,
 "nbformat_minor": 2
}
